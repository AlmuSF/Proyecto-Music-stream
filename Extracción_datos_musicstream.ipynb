{
 "cells": [
  {
   "cell_type": "markdown",
   "id": "cdaf8052",
   "metadata": {},
   "source": [
    "# Extracción de datos Spotify"
   ]
  },
  {
   "cell_type": "code",
   "execution_count": null,
   "id": "67707ea8",
   "metadata": {},
   "outputs": [],
   "source": [
    "!pip install spotipy"
   ]
  },
  {
   "cell_type": "code",
   "execution_count": null,
   "id": "29f51d99",
   "metadata": {},
   "outputs": [],
   "source": [
    "#El primer paso es importar las librerías. "
   ]
  },
  {
   "cell_type": "code",
   "execution_count": null,
   "id": "b6a6358d",
   "metadata": {},
   "outputs": [],
   "source": [
    "import pandas as pd\n",
    "import spotipy\n",
    "from spotipy.oauth2 import SpotifyClientCredentials\n",
    "import requests\n",
    "from requests.auth import HTTPBasicAuth\n",
    "from spotipy.oauth2 import SpotifyClientCredentials"
   ]
  },
  {
   "cell_type": "code",
   "execution_count": null,
   "id": "17145fcb",
   "metadata": {},
   "outputs": [],
   "source": [
    "#A continuación, para acceder a la API de Spotify necesitamos algunos datos como el Client ID, Client Secret y, a raíz de estos, un token.\n",
    "#¡Atención! En este caso necesitamos indicar el tipo de token para poder avanzar, \"Bearer\"."
   ]
  },
  {
   "cell_type": "code",
   "execution_count": null,
   "id": "d038d5a8",
   "metadata": {},
   "outputs": [],
   "source": [
    "client_id = \"xxxxxxxx\"\n",
    "client_secret = \"xxxxxxxx\"\n",
    "url = \"https://accounts.spotify.com/api/token\"\n",
    "data = {\n",
    "    \"grant_type\": \"client_credentials\"\n",
    "}\n",
    "response = requests.post(url, data=data, auth=HTTPBasicAuth(client_id, client_secret))\n",
    "if response.status_code == 200:\n",
    "    token = response.json()[\"access_token\"]\n",
    "    print(\"Token de acceso:\", token)\n",
    "else:\n",
    "    print(\"Error:\", response.status_code)\n",
    "    print(response.text)"
   ]
  },
  {
   "cell_type": "code",
   "execution_count": null,
   "id": "a25b3515",
   "metadata": {},
   "outputs": [],
   "source": [
    "# Autenticación\n",
    "auth_manager = SpotifyClientCredentials(client_id, client_secret)\n",
    "sp = spotipy.Spotify(auth_manager=auth_manager)"
   ]
  },
  {
   "cell_type": "code",
   "execution_count": null,
   "id": "ebcedc33",
   "metadata": {},
   "outputs": [],
   "source": [
    "# Obtenemos los endpoints y realizamos las llamadas\n",
    "\n",
    "token_spotify = \"Bearer BQB5KvCCqyk00vnQbQxaG0D2VbbBjt93puZb2AlhQ97HhbTGkUfGKbbjVNmdteXCaV2UO-CpKfLis50Q5SszvVxc8phLaQDP7YXnOmR3fUv_ZakuUdryDkX9zFErh07ofbVU9gVTuQA\"\n",
    "api_key_albums = \"https://api.spotify.com/v1/albums/{id}\"\n",
    "#id_album = \"4aawyAB9vmqN3uQ7FjRGTy\"\n",
    "\n",
    "api_key_tracks = \"https://api.spotify.com/v1/tracks/{id}\"\n",
    "#id_tracks = \"11dFghVXANMlKmJXsNCbNl\""
   ]
  },
  {
   "cell_type": "code",
   "execution_count": null,
   "id": "5a654567",
   "metadata": {},
   "outputs": [],
   "source": [
    "generos = ['pop', 'rock', 'reggaeton', 'indie']\n",
    "\n",
    "resultados_totales = []\n",
    "\n",
    "for genero in generos:\n",
    "    query = f'genre:\"{genero}\" year:2020-2024'\n",
    "    resultados = sp.search(q=query, type='track', limit=50)\n",
    "    \n",
    "    for item in resultados['tracks']['items']:\n",
    "        name = item['name']\n",
    "        id_spotify = item['id']\n",
    "        album = item['album']['name']\n",
    "        year = item['album']['release_date'][:4]\n",
    "        artist = item['artists'][0]['name']\n",
    "        type = item['type']\n",
    "        \n",
    "        resultados_totales.append({\n",
    "            'id_spotify': id_spotify,\n",
    "            'artist': artist,\n",
    "            'genre': genero,\n",
    "            'type': type,\n",
    "            'track_name': name,\n",
    "            'album': album,\n",
    "            'year': year\n",
    "        })"
   ]
  },
  {
   "cell_type": "code",
   "execution_count": null,
   "id": "ee9232a8",
   "metadata": {},
   "outputs": [],
   "source": [
    "resultados_totales"
   ]
  },
  {
   "cell_type": "code",
   "execution_count": null,
   "id": "52e8d646",
   "metadata": {},
   "outputs": [],
   "source": [
    "import pandas as pd\n",
    "df = pd.DataFrame(resultados_totales)\n",
    "df"
   ]
  },
  {
   "cell_type": "code",
   "execution_count": null,
   "id": "00b3d41a",
   "metadata": {},
   "outputs": [],
   "source": [
    "df.to_csv(\"datos_spotify_musicstream.csv\", index = False)"
   ]
  },
  {
   "cell_type": "code",
   "execution_count": null,
   "id": "00695fef",
   "metadata": {},
   "outputs": [],
   "source": [
    "lista_tuplas_spotify = list(df.itertuples(name=None, index =False))\n",
    "print(lista_tuplas_spotify)\n",
    "len(lista_tuplas_spotify)"
   ]
  },
  {
   "cell_type": "code",
   "execution_count": null,
   "id": "433bc443",
   "metadata": {},
   "outputs": [],
   "source": [
    "#Problema: hay ids duplicados. Para eliminarlos utilizamos la función list(set(nombre_lista)) dentro de un bucle, porque la tupla no es exactamente igual.\n",
    "\n",
    "ids_vistos = []\n",
    "lista_tuplas_spotify_sin_duplicados = []\n",
    "duplicados = [] #Creamos esta lista solo para comprobar qué datos se almacenan\n",
    "\n",
    "for tupla in lista_tuplas_spotify:\n",
    "    id_actual = tupla[0]\n",
    "    if id_actual not in ids_vistos:\n",
    "        lista_tuplas_spotify_sin_duplicados.append(tupla)\n",
    "        ids_vistos.append(id_actual)\n",
    "\n",
    "    else:\n",
    "       duplicados.append(tupla) \n",
    "\n",
    "print(lista_tuplas_spotify_sin_duplicados)\n",
    "len(lista_tuplas_spotify_sin_duplicados)\n",
    "print(duplicados)"
   ]
  },
  {
   "cell_type": "markdown",
   "id": "cf53f5db",
   "metadata": {},
   "source": [
    "# Extracción de datos last.fm"
   ]
  },
  {
   "cell_type": "code",
   "execution_count": null,
   "id": "e4946def",
   "metadata": {},
   "outputs": [],
   "source": [
    "# Importar librería para la conexión con MySQL\n",
    "# -----------------------------------------------------------------------\n",
    "#pip install mysql-connector -> en caso de no tenerla\n",
    "import mysql.connector\n",
    "from mysql.connector import errorcode\n",
    "\n",
    "# Importar librerías para manipulación y análisis de datos\n",
    "# -----------------------------------------------------------------------\n",
    "#pip install requests-> en caso de no tenerla\n",
    "#pip install pandas-> en caso de no tenerla\n",
    "#pip install numpy-> en caso de no tenerla\n",
    "import requests\n",
    "import pandas as pd\n",
    "\n",
    "# conexion a spotify\n",
    "# -----------------------------------------------------------------------\n",
    "#pip install spotipy -> en caso de no tenerla\n",
    "import spotipy\n",
    "from spotipy.oauth2 import SpotifyClientCredentials"
   ]
  },
  {
   "cell_type": "code",
   "execution_count": null,
   "id": "021c8a24",
   "metadata": {},
   "outputs": [],
   "source": [
    "# Este script consulta los artistas en base a una lista que yo le paso (que traigo desde la consulta de spotify). Su informacion sera artista, \n",
    "# Biography, Listeners, Playcount, Similar Artists\n",
    "\n",
    "\n",
    "# API Key obtenida de last.fm\n",
    "API_KEY = '74f3d8c71848e49a3eb64a8ed2222e55'  # Reemplaza con tu API Key válida de Last.fm.\n",
    "BASE_URL = 'http://ws.audioscrobbler.com/2.0/' # esta base siempre es la misma."
   ]
  },
  {
   "cell_type": "code",
   "execution_count": null,
   "id": "7b705e65",
   "metadata": {},
   "outputs": [],
   "source": [
    "lista_artistas = []\n",
    "\n",
    "for i in resultados_totales:\n",
    "    lista_artistas.append(i['artist'])\n",
    "\n",
    "import pandas as pd\n",
    "df_lista_artistas = pd.DataFrame(lista_artistas)\n",
    "df_lista_artistas"
   ]
  },
  {
   "cell_type": "code",
   "execution_count": null,
   "id": "c519b8ad",
   "metadata": {},
   "outputs": [],
   "source": [
    "#Prueba con 1 solo artista. Escogemos Lady Gaga\n",
    "\n",
    "artista_prueba = 'Lady Gaga'"
   ]
  },
  {
   "cell_type": "code",
   "execution_count": null,
   "id": "3e7e4eb3",
   "metadata": {},
   "outputs": [],
   "source": [
    "artist_data = []\n",
    "params_info = {\n",
    "        'method': 'artist.getinfo',\n",
    "        'artist': artista_prueba,\n",
    "        'api_key': API_KEY,\n",
    "        'format': 'json'\n",
    "    }\n",
    "response_info = requests.get(BASE_URL, params=params_info)\n",
    "data_info = response_info.json()\n",
    "data_info"
   ]
  },
  {
   "cell_type": "code",
   "execution_count": null,
   "id": "77c8f587",
   "metadata": {},
   "outputs": [],
   "source": [
    "## Vamos a crear un objeto artista \n",
    "\n",
    "artista = {\n",
    "    'Artist': artista_prueba,\n",
    "    'Biography': data_info['artist'].get('bio', {}).get('summary'),\n",
    "    'Listeners': data_info['artist'].get('stats', {}).get('listeners', \"Sin datos\"),\n",
    "    'Playcount': data_info['artist'].get('stats', {}).get('playcount', \"Sin datos\")\n",
    "}\n",
    "artista"
   ]
  },
  {
   "cell_type": "code",
   "execution_count": null,
   "id": "f7400ae7",
   "metadata": {},
   "outputs": [],
   "source": [
    "dict_artistas = {artista_prueba:{'Biography': data_info['artist'].get('bio', {}).get('summary'), 'Listeners': data_info['artist'].get('stats', {}).get('listeners', \"Sin datos\"), 'Playcount': data_info['artist'].get('stats', {}).get('playcount', \"Sin datos\")}}\n",
    "\n",
    "dict_artistas\n",
    "\n"
   ]
  },
  {
   "cell_type": "code",
   "execution_count": null,
   "id": "4bcf0f2e",
   "metadata": {},
   "outputs": [],
   "source": [
    "#Ahora, creamos un bucle para introducir la info de todos los artistas de nuestro listado. \n",
    "\n",
    "for i in lista_artistas:\n",
    "\n",
    "    params_info = {\n",
    "        'method': 'artist.getinfo',\n",
    "        'artist': i,\n",
    "        'api_key': API_KEY,\n",
    "        'format': 'json'\n",
    "    }\n",
    "    \n",
    "    response_info = requests.get(BASE_URL, params=params_info)\n",
    "    data_info = response_info.json()\n",
    "\n",
    "    info_artista = {}\n",
    "\n",
    "    if 'artist' in data_info:\n",
    "        info_artista = {\n",
    "            'Biography': data_info['artist'].get('bio', {}).get('summary', \"Sin biografía\"),\n",
    "            'Listeners': data_info['artist'].get('stats', {}).get('listeners', \"Sin datos\"),\n",
    "            'Playcount': data_info['artist'].get('stats', {}).get('playcount', \"Sin datos\"),\n",
    "            }\n",
    "        dict_artistas[i] = info_artista\n",
    "\n",
    "    else:\n",
    "        print(f\"{i} no localizado en data_info\")\n",
    "\n",
    "\n",
    "dict_artistas\n"
   ]
  },
  {
   "cell_type": "code",
   "execution_count": null,
   "id": "d6a04a9d",
   "metadata": {},
   "outputs": [],
   "source": [
    "import pandas as pd\n",
    "df_musicstream = pd.DataFrame(dict_artistas)\n",
    "df_musicstream\n",
    "\n",
    "df_musicstream_t = df_musicstream.T\n",
    "\n",
    "df_musicstream.T\n",
    "\n",
    "df_musicstream.T.to_csv(\"datos_lastfm_musicstream.csv\", quoting=1)"
   ]
  },
  {
   "cell_type": "code",
   "execution_count": null,
   "id": "fd148049",
   "metadata": {},
   "outputs": [],
   "source": [
    "#df_musicstream.T.to_csv(\"artistas_lastfm.csv\", index=False, quoting=1)\n"
   ]
  },
  {
   "cell_type": "code",
   "execution_count": null,
   "id": "1cea85fe",
   "metadata": {},
   "outputs": [],
   "source": [
    "df_musicstream.T"
   ]
  },
  {
   "cell_type": "code",
   "execution_count": null,
   "id": "dc68d487",
   "metadata": {},
   "outputs": [],
   "source": [
    "# Creamos una lista de tuplas\n",
    "lista_tuplas = list(df_musicstream.T.itertuples(name=None))\n",
    "\n",
    "print(lista_tuplas)"
   ]
  }
 ],
 "metadata": {
  "kernelspec": {
   "display_name": "base",
   "language": "python",
   "name": "python3"
  },
  "language_info": {
   "codemirror_mode": {
    "name": "ipython",
    "version": 3
   },
   "file_extension": ".py",
   "mimetype": "text/x-python",
   "name": "python",
   "nbconvert_exporter": "python",
   "pygments_lexer": "ipython3",
   "version": "3.12.8"
  }
 },
 "nbformat": 4,
 "nbformat_minor": 5
}
